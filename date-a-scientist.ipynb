{
 "cells": [
  {
   "cell_type": "code",
   "execution_count": 1,
   "metadata": {},
   "outputs": [],
   "source": [
    "import pandas as pd\n",
    "profiles = pd.read_csv('profiles.csv')"
   ]
  },
  {
   "cell_type": "markdown",
   "metadata": {},
   "source": [
    "# EDA"
   ]
  },
  {
   "cell_type": "code",
   "execution_count": 2,
   "metadata": {
    "scrolled": true
   },
   "outputs": [
    {
     "data": {
      "text/plain": [
       "Index(['age', 'body_type', 'diet', 'drinks', 'drugs', 'education', 'essay0',\n",
       "       'essay1', 'essay2', 'essay3', 'essay4', 'essay5', 'essay6', 'essay7',\n",
       "       'essay8', 'essay9', 'ethnicity', 'height', 'income', 'job',\n",
       "       'last_online', 'location', 'offspring', 'orientation', 'pets',\n",
       "       'religion', 'sex', 'sign', 'smokes', 'speaks', 'status'],\n",
       "      dtype='object')"
      ]
     },
     "execution_count": 2,
     "metadata": {},
     "output_type": "execute_result"
    }
   ],
   "source": [
    "profiles.columns"
   ]
  },
  {
   "cell_type": "code",
   "execution_count": 3,
   "metadata": {},
   "outputs": [
    {
     "name": "stdout",
     "output_type": "stream",
     "text": [
      "age                                                           23\n",
      "body_type                                                   thin\n",
      "diet                                                  vegetarian\n",
      "drinks                                                  socially\n",
      "drugs                                                        NaN\n",
      "education                          working on college/university\n",
      "essay0                 i work in a library and go to school. . .\n",
      "essay1                 reading things written by old dead people\n",
      "essay2         playing synthesizers and organizing books acco...\n",
      "essay3                         socially awkward but i do my best\n",
      "essay4         bataille, celine, beckett. . .<br />\\nlynch, j...\n",
      "essay5                                                       NaN\n",
      "essay6                                cats and german philosophy\n",
      "essay7                                                       NaN\n",
      "essay8                                                       NaN\n",
      "essay9                                     you feel so inclined.\n",
      "ethnicity                                                  white\n",
      "height                                                      71.0\n",
      "income                                                     20000\n",
      "job                                                      student\n",
      "last_online                                     2012-06-28-14-22\n",
      "location                                    berkeley, california\n",
      "offspring                                doesn&rsquo;t want kids\n",
      "orientation                                             straight\n",
      "pets                                                  likes cats\n",
      "religion                                                     NaN\n",
      "sex                                                            m\n",
      "sign                                                      pisces\n",
      "smokes                                                        no\n",
      "speaks                                  english, german (poorly)\n",
      "status                                                    single\n",
      "Name: 3, dtype: object\n"
     ]
    }
   ],
   "source": [
    "print(profiles.loc[3,:])"
   ]
  },
  {
   "cell_type": "code",
   "execution_count": 4,
   "metadata": {},
   "outputs": [
    {
     "name": "stdout",
     "output_type": "stream",
     "text": [
      "<class 'pandas.core.frame.DataFrame'>\n",
      "RangeIndex: 59946 entries, 0 to 59945\n",
      "Data columns (total 31 columns):\n",
      " #   Column       Non-Null Count  Dtype  \n",
      "---  ------       --------------  -----  \n",
      " 0   age          59946 non-null  int64  \n",
      " 1   body_type    54650 non-null  object \n",
      " 2   diet         35551 non-null  object \n",
      " 3   drinks       56961 non-null  object \n",
      " 4   drugs        45866 non-null  object \n",
      " 5   education    53318 non-null  object \n",
      " 6   essay0       54458 non-null  object \n",
      " 7   essay1       52374 non-null  object \n",
      " 8   essay2       50308 non-null  object \n",
      " 9   essay3       48470 non-null  object \n",
      " 10  essay4       49409 non-null  object \n",
      " 11  essay5       49096 non-null  object \n",
      " 12  essay6       46175 non-null  object \n",
      " 13  essay7       47495 non-null  object \n",
      " 14  essay8       40721 non-null  object \n",
      " 15  essay9       47343 non-null  object \n",
      " 16  ethnicity    54266 non-null  object \n",
      " 17  height       59943 non-null  float64\n",
      " 18  income       59946 non-null  int64  \n",
      " 19  job          51748 non-null  object \n",
      " 20  last_online  59946 non-null  object \n",
      " 21  location     59946 non-null  object \n",
      " 22  offspring    24385 non-null  object \n",
      " 23  orientation  59946 non-null  object \n",
      " 24  pets         40025 non-null  object \n",
      " 25  religion     39720 non-null  object \n",
      " 26  sex          59946 non-null  object \n",
      " 27  sign         48890 non-null  object \n",
      " 28  smokes       54434 non-null  object \n",
      " 29  speaks       59896 non-null  object \n",
      " 30  status       59946 non-null  object \n",
      "dtypes: float64(1), int64(2), object(28)\n",
      "memory usage: 14.2+ MB\n"
     ]
    }
   ],
   "source": [
    "profiles.info()"
   ]
  },
  {
   "cell_type": "code",
   "execution_count": 5,
   "metadata": {},
   "outputs": [
    {
     "data": {
      "text/html": [
       "<div>\n",
       "<style scoped>\n",
       "    .dataframe tbody tr th:only-of-type {\n",
       "        vertical-align: middle;\n",
       "    }\n",
       "\n",
       "    .dataframe tbody tr th {\n",
       "        vertical-align: top;\n",
       "    }\n",
       "\n",
       "    .dataframe thead th {\n",
       "        text-align: right;\n",
       "    }\n",
       "</style>\n",
       "<table border=\"1\" class=\"dataframe\">\n",
       "  <thead>\n",
       "    <tr style=\"text-align: right;\">\n",
       "      <th></th>\n",
       "      <th>age</th>\n",
       "      <th>height</th>\n",
       "      <th>income</th>\n",
       "    </tr>\n",
       "  </thead>\n",
       "  <tbody>\n",
       "    <tr>\n",
       "      <th>count</th>\n",
       "      <td>59946.000000</td>\n",
       "      <td>59943.000000</td>\n",
       "      <td>59946.000000</td>\n",
       "    </tr>\n",
       "    <tr>\n",
       "      <th>mean</th>\n",
       "      <td>32.340290</td>\n",
       "      <td>68.295281</td>\n",
       "      <td>20033.222534</td>\n",
       "    </tr>\n",
       "    <tr>\n",
       "      <th>std</th>\n",
       "      <td>9.452779</td>\n",
       "      <td>3.994803</td>\n",
       "      <td>97346.192104</td>\n",
       "    </tr>\n",
       "    <tr>\n",
       "      <th>min</th>\n",
       "      <td>18.000000</td>\n",
       "      <td>1.000000</td>\n",
       "      <td>-1.000000</td>\n",
       "    </tr>\n",
       "    <tr>\n",
       "      <th>25%</th>\n",
       "      <td>26.000000</td>\n",
       "      <td>66.000000</td>\n",
       "      <td>-1.000000</td>\n",
       "    </tr>\n",
       "    <tr>\n",
       "      <th>50%</th>\n",
       "      <td>30.000000</td>\n",
       "      <td>68.000000</td>\n",
       "      <td>-1.000000</td>\n",
       "    </tr>\n",
       "    <tr>\n",
       "      <th>75%</th>\n",
       "      <td>37.000000</td>\n",
       "      <td>71.000000</td>\n",
       "      <td>-1.000000</td>\n",
       "    </tr>\n",
       "    <tr>\n",
       "      <th>max</th>\n",
       "      <td>110.000000</td>\n",
       "      <td>95.000000</td>\n",
       "      <td>1000000.000000</td>\n",
       "    </tr>\n",
       "  </tbody>\n",
       "</table>\n",
       "</div>"
      ],
      "text/plain": [
       "                age        height          income\n",
       "count  59946.000000  59943.000000    59946.000000\n",
       "mean      32.340290     68.295281    20033.222534\n",
       "std        9.452779      3.994803    97346.192104\n",
       "min       18.000000      1.000000       -1.000000\n",
       "25%       26.000000     66.000000       -1.000000\n",
       "50%       30.000000     68.000000       -1.000000\n",
       "75%       37.000000     71.000000       -1.000000\n",
       "max      110.000000     95.000000  1000000.000000"
      ]
     },
     "execution_count": 5,
     "metadata": {},
     "output_type": "execute_result"
    }
   ],
   "source": [
    "profiles.describe()"
   ]
  },
  {
   "cell_type": "code",
   "execution_count": 6,
   "metadata": {},
   "outputs": [
    {
     "data": {
      "text/plain": [
       "straight    51606\n",
       "gay          5573\n",
       "bisexual     2767\n",
       "Name: orientation, dtype: int64"
      ]
     },
     "execution_count": 6,
     "metadata": {},
     "output_type": "execute_result"
    }
   ],
   "source": [
    "profiles.orientation.value_counts()"
   ]
  },
  {
   "cell_type": "code",
   "execution_count": 7,
   "metadata": {},
   "outputs": [
    {
     "data": {
      "text/plain": [
       "mostly anything        16585\n",
       "anything                6183\n",
       "strictly anything       5113\n",
       "mostly vegetarian       3444\n",
       "mostly other            1007\n",
       "strictly vegetarian      875\n",
       "vegetarian               667\n",
       "strictly other           452\n",
       "mostly vegan             338\n",
       "other                    331\n",
       "strictly vegan           228\n",
       "vegan                    136\n",
       "mostly kosher             86\n",
       "mostly halal              48\n",
       "strictly halal            18\n",
       "strictly kosher           18\n",
       "halal                     11\n",
       "kosher                    11\n",
       "Name: diet, dtype: int64"
      ]
     },
     "execution_count": 7,
     "metadata": {},
     "output_type": "execute_result"
    }
   ],
   "source": [
    "profiles.diet.value_counts()"
   ]
  },
  {
   "cell_type": "code",
   "execution_count": 8,
   "metadata": {},
   "outputs": [
    {
     "data": {
      "text/plain": [
       "white                                                                 32831\n",
       "asian                                                                  6134\n",
       "hispanic / latin                                                       2823\n",
       "black                                                                  2008\n",
       "other                                                                  1706\n",
       "                                                                      ...  \n",
       "middle eastern, indian, white                                             1\n",
       "asian, middle eastern, black, white, other                                1\n",
       "asian, middle eastern, indian, hispanic / latin, white, other             1\n",
       "black, native american, indian, pacific islander, hispanic / latin        1\n",
       "asian, black, indian                                                      1\n",
       "Name: ethnicity, Length: 217, dtype: int64"
      ]
     },
     "execution_count": 8,
     "metadata": {},
     "output_type": "execute_result"
    }
   ],
   "source": [
    "profiles.ethnicity.value_counts()"
   ]
  },
  {
   "cell_type": "code",
   "execution_count": null,
   "metadata": {},
   "outputs": [],
   "source": [
    "\n"
   ]
  },
  {
   "cell_type": "code",
   "execution_count": 10,
   "metadata": {},
   "outputs": [
    {
     "data": {
      "text/plain": [
       "array(['working on college/university', 'working on space camp',\n",
       "       'graduated from masters program',\n",
       "       'graduated from college/university', 'working on two-year college',\n",
       "       nan, 'graduated from high school', 'working on masters program',\n",
       "       'graduated from space camp', 'college/university',\n",
       "       'dropped out of space camp', 'graduated from ph.d program',\n",
       "       'graduated from law school', 'working on ph.d program',\n",
       "       'two-year college', 'graduated from two-year college',\n",
       "       'working on med school', 'dropped out of college/university',\n",
       "       'space camp', 'graduated from med school',\n",
       "       'dropped out of high school', 'working on high school',\n",
       "       'masters program', 'dropped out of ph.d program',\n",
       "       'dropped out of two-year college', 'dropped out of med school',\n",
       "       'high school', 'working on law school', 'law school',\n",
       "       'dropped out of masters program', 'ph.d program',\n",
       "       'dropped out of law school', 'med school'], dtype=object)"
      ]
     },
     "execution_count": 10,
     "metadata": {},
     "output_type": "execute_result"
    }
   ],
   "source": [
    "profiles.education.unique()"
   ]
  },
  {
   "cell_type": "code",
   "execution_count": 11,
   "metadata": {},
   "outputs": [
    {
     "name": "stdout",
     "output_type": "stream",
     "text": [
      "91\n"
     ]
    }
   ],
   "source": [
    "locs = profiles.location.apply(lambda x:x if 'california' not in x else None)\n",
    "locs.dropna(inplace = True)\n",
    "print(len(locs))\n"
   ]
  },
  {
   "cell_type": "code",
   "execution_count": 12,
   "metadata": {},
   "outputs": [
    {
     "data": {
      "text/plain": [
       "m    35829\n",
       "f    24117\n",
       "Name: sex, dtype: int64"
      ]
     },
     "execution_count": 12,
     "metadata": {},
     "output_type": "execute_result"
    }
   ],
   "source": [
    "profiles.sex.value_counts()"
   ]
  },
  {
   "cell_type": "code",
   "execution_count": 13,
   "metadata": {},
   "outputs": [
    {
     "data": {
      "text/plain": [
       "average           14652\n",
       "fit               12711\n",
       "athletic          11819\n",
       "thin               4711\n",
       "curvy              3924\n",
       "a little extra     2629\n",
       "skinny             1777\n",
       "full figured       1009\n",
       "overweight          444\n",
       "jacked              421\n",
       "used up             355\n",
       "rather not say      198\n",
       "Name: body_type, dtype: int64"
      ]
     },
     "execution_count": 13,
     "metadata": {},
     "output_type": "execute_result"
    }
   ],
   "source": [
    "profiles.body_type.value_counts()"
   ]
  },
  {
   "cell_type": "code",
   "execution_count": 14,
   "metadata": {},
   "outputs": [
    {
     "data": {
      "text/plain": [
       "doesn&rsquo;t have kids                                7560\n",
       "doesn&rsquo;t have kids, but might want them           3875\n",
       "doesn&rsquo;t have kids, but wants them                3565\n",
       "doesn&rsquo;t want kids                                2927\n",
       "has kids                                               1883\n",
       "has a kid                                              1881\n",
       "doesn&rsquo;t have kids, and doesn&rsquo;t want any    1132\n",
       "has kids, but doesn&rsquo;t want more                   442\n",
       "has a kid, but doesn&rsquo;t want more                  275\n",
       "has a kid, and might want more                          231\n",
       "wants kids                                              225\n",
       "might want kids                                         182\n",
       "has kids, and might want more                           115\n",
       "has a kid, and wants more                                71\n",
       "has kids, and wants more                                 21\n",
       "Name: offspring, dtype: int64"
      ]
     },
     "execution_count": 14,
     "metadata": {},
     "output_type": "execute_result"
    }
   ],
   "source": [
    "profiles.offspring.value_counts()"
   ]
  },
  {
   "cell_type": "code",
   "execution_count": 15,
   "metadata": {},
   "outputs": [
    {
     "data": {
      "text/plain": [
       "other                                7589\n",
       "student                              4882\n",
       "science / tech / engineering         4848\n",
       "computer / hardware / software       4709\n",
       "artistic / musical / writer          4439\n",
       "sales / marketing / biz dev          4391\n",
       "medicine / health                    3680\n",
       "education / academia                 3513\n",
       "executive / management               2373\n",
       "banking / financial / real estate    2266\n",
       "entertainment / media                2250\n",
       "law / legal services                 1381\n",
       "hospitality / travel                 1364\n",
       "construction / craftsmanship         1021\n",
       "clerical / administrative             805\n",
       "political / government                708\n",
       "rather not say                        436\n",
       "transportation                        366\n",
       "unemployed                            273\n",
       "retired                               250\n",
       "military                              204\n",
       "Name: job, dtype: int64"
      ]
     },
     "execution_count": 15,
     "metadata": {},
     "output_type": "execute_result"
    }
   ],
   "source": [
    "profiles.job.value_counts()"
   ]
  },
  {
   "cell_type": "code",
   "execution_count": 16,
   "metadata": {},
   "outputs": [
    {
     "data": {
      "text/plain": [
       "likes dogs and likes cats          14814\n",
       "likes dogs                          7224\n",
       "likes dogs and has cats             4313\n",
       "has dogs                            4134\n",
       "has dogs and likes cats             2333\n",
       "likes dogs and dislikes cats        2029\n",
       "has dogs and has cats               1474\n",
       "has cats                            1406\n",
       "likes cats                          1063\n",
       "has dogs and dislikes cats           552\n",
       "dislikes dogs and likes cats         240\n",
       "dislikes dogs and dislikes cats      196\n",
       "dislikes cats                        122\n",
       "dislikes dogs and has cats            81\n",
       "dislikes dogs                         44\n",
       "Name: pets, dtype: int64"
      ]
     },
     "execution_count": 16,
     "metadata": {},
     "output_type": "execute_result"
    }
   ],
   "source": [
    "profiles.pets.value_counts()"
   ]
  },
  {
   "cell_type": "code",
   "execution_count": null,
   "metadata": {},
   "outputs": [],
   "source": []
  },
  {
   "cell_type": "markdown",
   "metadata": {},
   "source": [
    "# Thoughts:\n",
    "\n",
    "1) I want to try clustering but not sure exactly what I want to prove yet. I'll remove some of the features. Going to remove the essays for now and see if I can work them in later. \n",
    "\n",
    "2) With the essays I would like to do a couple of different things. I would like to see how similar people are who answer all of the questions and I would like to match people based on word usage.\n",
    "\n"
   ]
  },
  {
   "cell_type": "markdown",
   "metadata": {},
   "source": [
    "Since there are only 91 people who aren't in California, I'll probably turn that into a binary variable. \n",
    "\n",
    "Going to remove:\n",
    "\n",
    "-essays; too complicated for now\\\n",
    "-ethnicity; maybe come back to it later\\\n",
    "-job; I think income is probably a better indicator\\\n",
    "-last_online; could be interesting but not for now\\\n",
    "-speaks; too many unique values, could come back to it later."
   ]
  },
  {
   "cell_type": "code",
   "execution_count": 2,
   "metadata": {},
   "outputs": [],
   "source": [
    "profiles_data = profiles[['age', 'body_type', 'diet', 'drinks', 'drugs', 'education','height', \n",
    "                          'income','location', 'offspring', 'orientation', 'pets',\n",
    "       'religion', 'sex', 'sign', 'smokes','status']]\n"
   ]
  },
  {
   "cell_type": "code",
   "execution_count": null,
   "metadata": {},
   "outputs": [],
   "source": []
  },
  {
   "cell_type": "code",
   "execution_count": null,
   "metadata": {},
   "outputs": [],
   "source": []
  },
  {
   "cell_type": "code",
   "execution_count": null,
   "metadata": {},
   "outputs": [],
   "source": []
  },
  {
   "cell_type": "markdown",
   "metadata": {},
   "source": [
    "# Clean it up"
   ]
  },
  {
   "cell_type": "markdown",
   "metadata": {},
   "source": [
    "Okay starting with age we need to clean this data up. I saw earlier that the highest age was 101. Probably not true! There were also funky heights and what not but we'll go feature by feature."
   ]
  },
  {
   "cell_type": "code",
   "execution_count": 3,
   "metadata": {},
   "outputs": [
    {
     "data": {
      "text/plain": [
       "26     3724\n",
       "27     3685\n",
       "28     3583\n",
       "25     3531\n",
       "29     3295\n",
       "24     3242\n",
       "30     3149\n",
       "31     2735\n",
       "23     2592\n",
       "32     2587\n",
       "33     2206\n",
       "22     1934\n",
       "34     1902\n",
       "35     1755\n",
       "36     1583\n",
       "37     1427\n",
       "38     1330\n",
       "21     1282\n",
       "39     1172\n",
       "42     1072\n",
       "40     1030\n",
       "41      980\n",
       "20      953\n",
       "43      858\n",
       "44      708\n",
       "45      643\n",
       "19      611\n",
       "46      578\n",
       "47      529\n",
       "48      481\n",
       "49      459\n",
       "50      437\n",
       "51      350\n",
       "52      344\n",
       "18      309\n",
       "56      271\n",
       "54      267\n",
       "55      265\n",
       "57      256\n",
       "53      252\n",
       "59      221\n",
       "58      197\n",
       "60      195\n",
       "61      176\n",
       "62      167\n",
       "63      138\n",
       "64      113\n",
       "65      109\n",
       "66      105\n",
       "67       66\n",
       "68       59\n",
       "69       31\n",
       "110       1\n",
       "109       1\n",
       "Name: age, dtype: int64"
      ]
     },
     "execution_count": 3,
     "metadata": {},
     "output_type": "execute_result"
    }
   ],
   "source": [
    "profiles_data.age.value_counts()"
   ]
  },
  {
   "cell_type": "code",
   "execution_count": 3,
   "metadata": {},
   "outputs": [
    {
     "data": {
      "text/html": [
       "<div>\n",
       "<style scoped>\n",
       "    .dataframe tbody tr th:only-of-type {\n",
       "        vertical-align: middle;\n",
       "    }\n",
       "\n",
       "    .dataframe tbody tr th {\n",
       "        vertical-align: top;\n",
       "    }\n",
       "\n",
       "    .dataframe thead th {\n",
       "        text-align: right;\n",
       "    }\n",
       "</style>\n",
       "<table border=\"1\" class=\"dataframe\">\n",
       "  <thead>\n",
       "    <tr style=\"text-align: right;\">\n",
       "      <th></th>\n",
       "      <th>age</th>\n",
       "      <th>body_type</th>\n",
       "      <th>diet</th>\n",
       "      <th>drinks</th>\n",
       "      <th>drugs</th>\n",
       "      <th>education</th>\n",
       "      <th>height</th>\n",
       "      <th>income</th>\n",
       "      <th>location</th>\n",
       "      <th>offspring</th>\n",
       "      <th>orientation</th>\n",
       "      <th>pets</th>\n",
       "      <th>religion</th>\n",
       "      <th>sex</th>\n",
       "      <th>sign</th>\n",
       "      <th>smokes</th>\n",
       "      <th>status</th>\n",
       "    </tr>\n",
       "  </thead>\n",
       "  <tbody>\n",
       "    <tr>\n",
       "      <th>2512</th>\n",
       "      <td>110</td>\n",
       "      <td>NaN</td>\n",
       "      <td>NaN</td>\n",
       "      <td>NaN</td>\n",
       "      <td>NaN</td>\n",
       "      <td>NaN</td>\n",
       "      <td>67.0</td>\n",
       "      <td>-1</td>\n",
       "      <td>daly city, california</td>\n",
       "      <td>NaN</td>\n",
       "      <td>straight</td>\n",
       "      <td>NaN</td>\n",
       "      <td>NaN</td>\n",
       "      <td>f</td>\n",
       "      <td>NaN</td>\n",
       "      <td>NaN</td>\n",
       "      <td>single</td>\n",
       "    </tr>\n",
       "    <tr>\n",
       "      <th>25324</th>\n",
       "      <td>109</td>\n",
       "      <td>athletic</td>\n",
       "      <td>mostly other</td>\n",
       "      <td>NaN</td>\n",
       "      <td>never</td>\n",
       "      <td>working on masters program</td>\n",
       "      <td>95.0</td>\n",
       "      <td>-1</td>\n",
       "      <td>san francisco, california</td>\n",
       "      <td>might want kids</td>\n",
       "      <td>straight</td>\n",
       "      <td>NaN</td>\n",
       "      <td>other and somewhat serious about it</td>\n",
       "      <td>m</td>\n",
       "      <td>aquarius but it doesn&amp;rsquo;t matter</td>\n",
       "      <td>when drinking</td>\n",
       "      <td>available</td>\n",
       "    </tr>\n",
       "  </tbody>\n",
       "</table>\n",
       "</div>"
      ],
      "text/plain": [
       "       age body_type          diet drinks  drugs                   education  \\\n",
       "2512   110       NaN           NaN    NaN    NaN                         NaN   \n",
       "25324  109  athletic  mostly other    NaN  never  working on masters program   \n",
       "\n",
       "       height  income                   location        offspring orientation  \\\n",
       "2512     67.0      -1      daly city, california              NaN    straight   \n",
       "25324    95.0      -1  san francisco, california  might want kids    straight   \n",
       "\n",
       "      pets                             religion sex  \\\n",
       "2512   NaN                                  NaN   f   \n",
       "25324  NaN  other and somewhat serious about it   m   \n",
       "\n",
       "                                       sign         smokes     status  \n",
       "2512                                    NaN            NaN     single  \n",
       "25324  aquarius but it doesn&rsquo;t matter  when drinking  available  "
      ]
     },
     "execution_count": 3,
     "metadata": {},
     "output_type": "execute_result"
    }
   ],
   "source": [
    "#Are the people above 100 really above 100?\n",
    "profiles_data[profiles_data['age'] > 100]\n",
    "#Seems unlikely but there's only two of them in 60k entries and one of the accounts is filled\n",
    "#out. Not even sure I'll use age at all."
   ]
  },
  {
   "cell_type": "markdown",
   "metadata": {},
   "source": [
    "I took a look at most of the features to figure out how to make rating systems so that I can create a KMeans model. I deleted some unnecessary code but left in the exploration."
   ]
  },
  {
   "cell_type": "code",
   "execution_count": 5,
   "metadata": {},
   "outputs": [
    {
     "data": {
      "text/plain": [
       "array(['a little extra', 'average', 'thin', 'athletic', 'fit', nan,\n",
       "       'skinny', 'curvy', 'full figured', 'jacked', 'rather not say',\n",
       "       'used up', 'overweight'], dtype=object)"
      ]
     },
     "execution_count": 5,
     "metadata": {},
     "output_type": "execute_result"
    }
   ],
   "source": [
    "profiles_data.body_type.unique()"
   ]
  },
  {
   "cell_type": "code",
   "execution_count": 6,
   "metadata": {},
   "outputs": [
    {
     "data": {
      "text/plain": [
       "array(['strictly anything', 'mostly other', 'anything', 'vegetarian', nan,\n",
       "       'mostly anything', 'mostly vegetarian', 'strictly vegan',\n",
       "       'strictly vegetarian', 'mostly vegan', 'strictly other',\n",
       "       'mostly halal', 'other', 'vegan', 'mostly kosher',\n",
       "       'strictly halal', 'halal', 'strictly kosher', 'kosher'],\n",
       "      dtype=object)"
      ]
     },
     "execution_count": 6,
     "metadata": {},
     "output_type": "execute_result"
    }
   ],
   "source": [
    "profiles_data.diet.unique()"
   ]
  },
  {
   "cell_type": "code",
   "execution_count": 7,
   "metadata": {},
   "outputs": [
    {
     "data": {
      "text/plain": [
       "array(['socially', 'often', 'not at all', 'rarely', nan, 'very often',\n",
       "       'desperately'], dtype=object)"
      ]
     },
     "execution_count": 7,
     "metadata": {},
     "output_type": "execute_result"
    }
   ],
   "source": [
    "profiles_data.drinks.unique()\n"
   ]
  },
  {
   "cell_type": "code",
   "execution_count": 8,
   "metadata": {},
   "outputs": [
    {
     "data": {
      "text/plain": [
       "array(['never', 'sometimes', nan, 'often'], dtype=object)"
      ]
     },
     "execution_count": 8,
     "metadata": {},
     "output_type": "execute_result"
    }
   ],
   "source": [
    "profiles_data.drugs.unique()"
   ]
  },
  {
   "cell_type": "code",
   "execution_count": 9,
   "metadata": {},
   "outputs": [
    {
     "data": {
      "text/plain": [
       "array(['working on college/university', 'working on space camp',\n",
       "       'graduated from masters program',\n",
       "       'graduated from college/university', 'working on two-year college',\n",
       "       nan, 'graduated from high school', 'working on masters program',\n",
       "       'graduated from space camp', 'college/university',\n",
       "       'dropped out of space camp', 'graduated from ph.d program',\n",
       "       'graduated from law school', 'working on ph.d program',\n",
       "       'two-year college', 'graduated from two-year college',\n",
       "       'working on med school', 'dropped out of college/university',\n",
       "       'space camp', 'graduated from med school',\n",
       "       'dropped out of high school', 'working on high school',\n",
       "       'masters program', 'dropped out of ph.d program',\n",
       "       'dropped out of two-year college', 'dropped out of med school',\n",
       "       'high school', 'working on law school', 'law school',\n",
       "       'dropped out of masters program', 'ph.d program',\n",
       "       'dropped out of law school', 'med school'], dtype=object)"
      ]
     },
     "execution_count": 9,
     "metadata": {},
     "output_type": "execute_result"
    }
   ],
   "source": [
    "profiles_data.education.unique()"
   ]
  },
  {
   "cell_type": "code",
   "execution_count": 10,
   "metadata": {},
   "outputs": [
    {
     "name": "stdout",
     "output_type": "stream",
     "text": [
      "<class 'pandas.core.series.Series'>\n",
      "RangeIndex: 59946 entries, 0 to 59945\n",
      "Series name: height\n",
      "Non-Null Count  Dtype  \n",
      "--------------  -----  \n",
      "59943 non-null  float64\n",
      "dtypes: float64(1)\n",
      "memory usage: 468.5 KB\n"
     ]
    }
   ],
   "source": [
    "profiles_data['height'].info()\n"
   ]
  },
  {
   "cell_type": "code",
   "execution_count": 4,
   "metadata": {},
   "outputs": [
    {
     "data": {
      "text/html": [
       "<div>\n",
       "<style scoped>\n",
       "    .dataframe tbody tr th:only-of-type {\n",
       "        vertical-align: middle;\n",
       "    }\n",
       "\n",
       "    .dataframe tbody tr th {\n",
       "        vertical-align: top;\n",
       "    }\n",
       "\n",
       "    .dataframe thead th {\n",
       "        text-align: right;\n",
       "    }\n",
       "</style>\n",
       "<table border=\"1\" class=\"dataframe\">\n",
       "  <thead>\n",
       "    <tr style=\"text-align: right;\">\n",
       "      <th></th>\n",
       "      <th>age</th>\n",
       "      <th>body_type</th>\n",
       "      <th>diet</th>\n",
       "      <th>drinks</th>\n",
       "      <th>drugs</th>\n",
       "      <th>education</th>\n",
       "      <th>height</th>\n",
       "      <th>income</th>\n",
       "      <th>location</th>\n",
       "      <th>offspring</th>\n",
       "      <th>orientation</th>\n",
       "      <th>pets</th>\n",
       "      <th>religion</th>\n",
       "      <th>sex</th>\n",
       "      <th>sign</th>\n",
       "      <th>smokes</th>\n",
       "      <th>status</th>\n",
       "    </tr>\n",
       "  </thead>\n",
       "  <tbody>\n",
       "    <tr>\n",
       "      <th>36428</th>\n",
       "      <td>32</td>\n",
       "      <td>NaN</td>\n",
       "      <td>NaN</td>\n",
       "      <td>NaN</td>\n",
       "      <td>NaN</td>\n",
       "      <td>NaN</td>\n",
       "      <td>NaN</td>\n",
       "      <td>-1</td>\n",
       "      <td>berkeley, california</td>\n",
       "      <td>NaN</td>\n",
       "      <td>straight</td>\n",
       "      <td>NaN</td>\n",
       "      <td>NaN</td>\n",
       "      <td>f</td>\n",
       "      <td>NaN</td>\n",
       "      <td>NaN</td>\n",
       "      <td>single</td>\n",
       "    </tr>\n",
       "    <tr>\n",
       "      <th>54002</th>\n",
       "      <td>25</td>\n",
       "      <td>NaN</td>\n",
       "      <td>NaN</td>\n",
       "      <td>NaN</td>\n",
       "      <td>never</td>\n",
       "      <td>NaN</td>\n",
       "      <td>NaN</td>\n",
       "      <td>-1</td>\n",
       "      <td>guadalajara, mexico</td>\n",
       "      <td>NaN</td>\n",
       "      <td>straight</td>\n",
       "      <td>NaN</td>\n",
       "      <td>NaN</td>\n",
       "      <td>m</td>\n",
       "      <td>aries</td>\n",
       "      <td>NaN</td>\n",
       "      <td>single</td>\n",
       "    </tr>\n",
       "    <tr>\n",
       "      <th>58983</th>\n",
       "      <td>49</td>\n",
       "      <td>NaN</td>\n",
       "      <td>NaN</td>\n",
       "      <td>NaN</td>\n",
       "      <td>NaN</td>\n",
       "      <td>NaN</td>\n",
       "      <td>NaN</td>\n",
       "      <td>-1</td>\n",
       "      <td>berkeley, california</td>\n",
       "      <td>doesn&amp;rsquo;t have kids</td>\n",
       "      <td>straight</td>\n",
       "      <td>likes cats</td>\n",
       "      <td>NaN</td>\n",
       "      <td>m</td>\n",
       "      <td>NaN</td>\n",
       "      <td>no</td>\n",
       "      <td>single</td>\n",
       "    </tr>\n",
       "  </tbody>\n",
       "</table>\n",
       "</div>"
      ],
      "text/plain": [
       "       age body_type diet drinks  drugs education  height  income  \\\n",
       "36428   32       NaN  NaN    NaN    NaN       NaN     NaN      -1   \n",
       "54002   25       NaN  NaN    NaN  never       NaN     NaN      -1   \n",
       "58983   49       NaN  NaN    NaN    NaN       NaN     NaN      -1   \n",
       "\n",
       "                   location                offspring orientation        pets  \\\n",
       "36428  berkeley, california                      NaN    straight         NaN   \n",
       "54002   guadalajara, mexico                      NaN    straight         NaN   \n",
       "58983  berkeley, california  doesn&rsquo;t have kids    straight  likes cats   \n",
       "\n",
       "      religion sex   sign smokes  status  \n",
       "36428      NaN   f    NaN    NaN  single  \n",
       "54002      NaN   m  aries    NaN  single  \n",
       "58983      NaN   m    NaN     no  single  "
      ]
     },
     "execution_count": 4,
     "metadata": {},
     "output_type": "execute_result"
    }
   ],
   "source": [
    "profiles_data[profiles_data['height'].isna() == True]\n"
   ]
  },
  {
   "cell_type": "code",
   "execution_count": 3,
   "metadata": {},
   "outputs": [
    {
     "name": "stderr",
     "output_type": "stream",
     "text": [
      "/var/folders/hl/t7n7c3hn5cg8q9rg7d8dp3lh0000gn/T/ipykernel_63792/560608413.py:2: SettingWithCopyWarning: \n",
      "A value is trying to be set on a copy of a slice from a DataFrame\n",
      "\n",
      "See the caveats in the documentation: https://pandas.pydata.org/pandas-docs/stable/user_guide/indexing.html#returning-a-view-versus-a-copy\n",
      "  profiles_data.dropna(subset = 'height', inplace = True)\n"
     ]
    }
   ],
   "source": [
    "#Looks like those profiles are fake. At any rate they're extremely incomplete.\n",
    "profiles_data.dropna(subset = 'height', inplace = True)"
   ]
  },
  {
   "cell_type": "code",
   "execution_count": 6,
   "metadata": {},
   "outputs": [
    {
     "name": "stdout",
     "output_type": "stream",
     "text": [
      "<class 'pandas.core.series.Series'>\n",
      "Int64Index: 59943 entries, 0 to 59945\n",
      "Series name: income\n",
      "Non-Null Count  Dtype\n",
      "--------------  -----\n",
      "59943 non-null  int64\n",
      "dtypes: int64(1)\n",
      "memory usage: 936.6 KB\n"
     ]
    }
   ],
   "source": [
    "profiles_data['income'].info()"
   ]
  },
  {
   "cell_type": "code",
   "execution_count": 98,
   "metadata": {},
   "outputs": [
    {
     "data": {
      "text/plain": [
       "48442"
      ]
     },
     "execution_count": 98,
     "metadata": {},
     "output_type": "execute_result"
    }
   ],
   "source": [
    "len(profiles_data[profiles_data['income'] < 10000])\n",
    "       "
   ]
  },
  {
   "cell_type": "markdown",
   "metadata": {},
   "source": [
    "Income seems pointless to include. Going to delete it."
   ]
  },
  {
   "cell_type": "code",
   "execution_count": 4,
   "metadata": {},
   "outputs": [
    {
     "name": "stderr",
     "output_type": "stream",
     "text": [
      "/var/folders/hl/t7n7c3hn5cg8q9rg7d8dp3lh0000gn/T/ipykernel_63792/2843330536.py:1: SettingWithCopyWarning: \n",
      "A value is trying to be set on a copy of a slice from a DataFrame\n",
      "\n",
      "See the caveats in the documentation: https://pandas.pydata.org/pandas-docs/stable/user_guide/indexing.html#returning-a-view-versus-a-copy\n",
      "  profiles_data.drop('income',axis = 1, inplace = True)\n"
     ]
    }
   ],
   "source": [
    "profiles_data.drop('income',axis = 1, inplace = True)"
   ]
  },
  {
   "cell_type": "code",
   "execution_count": 5,
   "metadata": {},
   "outputs": [
    {
     "name": "stderr",
     "output_type": "stream",
     "text": [
      "/var/folders/hl/t7n7c3hn5cg8q9rg7d8dp3lh0000gn/T/ipykernel_63792/4111045312.py:2: SettingWithCopyWarning: \n",
      "A value is trying to be set on a copy of a slice from a DataFrame.\n",
      "Try using .loc[row_indexer,col_indexer] = value instead\n",
      "\n",
      "See the caveats in the documentation: https://pandas.pydata.org/pandas-docs/stable/user_guide/indexing.html#returning-a-view-versus-a-copy\n",
      "  profiles_data['job'] = profiles['job']\n"
     ]
    }
   ],
   "source": [
    "#adding jobs\n",
    "profiles_data['job'] = profiles['job']"
   ]
  },
  {
   "cell_type": "markdown",
   "metadata": {},
   "source": [
    "Changing location to a binary variable because all but 90 people are located in California"
   ]
  },
  {
   "cell_type": "code",
   "execution_count": 6,
   "metadata": {},
   "outputs": [
    {
     "name": "stderr",
     "output_type": "stream",
     "text": [
      "/var/folders/hl/t7n7c3hn5cg8q9rg7d8dp3lh0000gn/T/ipykernel_63792/1275425012.py:1: SettingWithCopyWarning: \n",
      "A value is trying to be set on a copy of a slice from a DataFrame.\n",
      "Try using .loc[row_indexer,col_indexer] = value instead\n",
      "\n",
      "See the caveats in the documentation: https://pandas.pydata.org/pandas-docs/stable/user_guide/indexing.html#returning-a-view-versus-a-copy\n",
      "  profiles_data['location_counts'] = profiles_data['location'].apply(\n"
     ]
    },
    {
     "data": {
      "text/plain": [
       "1    59853\n",
       "0       90\n",
       "Name: location_counts, dtype: int64"
      ]
     },
     "execution_count": 6,
     "metadata": {},
     "output_type": "execute_result"
    }
   ],
   "source": [
    "profiles_data['location_counts'] = profiles_data['location'].apply(\n",
    "                                    lambda x:1 if 'california' in x else 0)\n",
    "profiles_data['location_counts'].value_counts()"
   ]
  },
  {
   "cell_type": "code",
   "execution_count": 7,
   "metadata": {},
   "outputs": [
    {
     "data": {
      "text/plain": [
       "straight    51603\n",
       "gay          5573\n",
       "bisexual     2767\n",
       "Name: orientation, dtype: int64"
      ]
     },
     "execution_count": 7,
     "metadata": {},
     "output_type": "execute_result"
    }
   ],
   "source": [
    "profiles_data['orientation'].value_counts()"
   ]
  },
  {
   "cell_type": "markdown",
   "metadata": {},
   "source": [
    "Doing this now because it's quick and there are no null values. Don't know if I'll use it"
   ]
  },
  {
   "cell_type": "code",
   "execution_count": 8,
   "metadata": {},
   "outputs": [
    {
     "name": "stderr",
     "output_type": "stream",
     "text": [
      "/var/folders/hl/t7n7c3hn5cg8q9rg7d8dp3lh0000gn/T/ipykernel_63792/1179000789.py:2: SettingWithCopyWarning: \n",
      "A value is trying to be set on a copy of a slice from a DataFrame.\n",
      "Try using .loc[row_indexer,col_indexer] = value instead\n",
      "\n",
      "See the caveats in the documentation: https://pandas.pydata.org/pandas-docs/stable/user_guide/indexing.html#returning-a-view-versus-a-copy\n",
      "  profiles_data['orientation_counts'] = profiles_data['orientation'].map(\n"
     ]
    }
   ],
   "source": [
    "orientation_dict = {'straight':0,'bisexual':1,'gay':2}\n",
    "profiles_data['orientation_counts'] = profiles_data['orientation'].map(\n",
    "    orientation_dict)"
   ]
  },
  {
   "cell_type": "markdown",
   "metadata": {},
   "source": [
    "Just doing this now because it's easy."
   ]
  },
  {
   "cell_type": "code",
   "execution_count": 9,
   "metadata": {},
   "outputs": [
    {
     "name": "stdout",
     "output_type": "stream",
     "text": [
      "<class 'pandas.core.series.Series'>\n",
      "Int64Index: 59943 entries, 0 to 59945\n",
      "Series name: sex\n",
      "Non-Null Count  Dtype \n",
      "--------------  ----- \n",
      "59943 non-null  object\n",
      "dtypes: object(1)\n",
      "memory usage: 936.6+ KB\n"
     ]
    },
    {
     "name": "stderr",
     "output_type": "stream",
     "text": [
      "/var/folders/hl/t7n7c3hn5cg8q9rg7d8dp3lh0000gn/T/ipykernel_63792/2932211933.py:5: SettingWithCopyWarning: \n",
      "A value is trying to be set on a copy of a slice from a DataFrame.\n",
      "Try using .loc[row_indexer,col_indexer] = value instead\n",
      "\n",
      "See the caveats in the documentation: https://pandas.pydata.org/pandas-docs/stable/user_guide/indexing.html#returning-a-view-versus-a-copy\n",
      "  profiles_data['sex_counts'] = profiles_data['sex'].map(\n"
     ]
    }
   ],
   "source": [
    "#I checked for null values first\n",
    "profiles_data.sex.unique()\n",
    "profiles_data.sex.info()\n",
    "sex_dict = {'m':0,'f':1}\n",
    "profiles_data['sex_counts'] = profiles_data['sex'].map(\n",
    "    sex_dict)"
   ]
  },
  {
   "cell_type": "code",
   "execution_count": 10,
   "metadata": {},
   "outputs": [
    {
     "name": "stdout",
     "output_type": "stream",
     "text": [
      "<class 'pandas.core.series.Series'>\n",
      "Int64Index: 59943 entries, 0 to 59945\n",
      "Series name: sign\n",
      "Non-Null Count  Dtype \n",
      "--------------  ----- \n",
      "48889 non-null  object\n",
      "dtypes: object(1)\n",
      "memory usage: 936.6+ KB\n"
     ]
    }
   ],
   "source": [
    "profiles_data.sign.info()"
   ]
  },
  {
   "cell_type": "markdown",
   "metadata": {},
   "source": [
    "I finally have an idea! Going to get started with smoking. Let's see if there is a correlation between smoking and education. I'll do the same for drinking and drugs too.\n",
    "\n",
    "# Question 1\n",
    "\n",
    "Does smoking, drinking and drugs indicate education level?"
   ]
  },
  {
   "cell_type": "code",
   "execution_count": 10,
   "metadata": {},
   "outputs": [
    {
     "name": "stderr",
     "output_type": "stream",
     "text": [
      "/var/folders/hl/t7n7c3hn5cg8q9rg7d8dp3lh0000gn/T/ipykernel_63792/784722992.py:3: SettingWithCopyWarning: \n",
      "A value is trying to be set on a copy of a slice from a DataFrame.\n",
      "Try using .loc[row_indexer,col_indexer] = value instead\n",
      "\n",
      "See the caveats in the documentation: https://pandas.pydata.org/pandas-docs/stable/user_guide/indexing.html#returning-a-view-versus-a-copy\n",
      "  profiles_data['smokes_counts'] = profiles_data['smokes'].map(smokes_dict)\n"
     ]
    }
   ],
   "source": [
    "profiles_data.smokes.unique()\n",
    "smokes_dict = { 'no':1,'when drinking':2, 'trying to quit':3,'sometimes':4,'yes':5}\n",
    "profiles_data['smokes_counts'] = profiles_data['smokes'].map(smokes_dict)"
   ]
  },
  {
   "cell_type": "code",
   "execution_count": 11,
   "metadata": {},
   "outputs": [
    {
     "name": "stderr",
     "output_type": "stream",
     "text": [
      "/var/folders/hl/t7n7c3hn5cg8q9rg7d8dp3lh0000gn/T/ipykernel_63792/3303313422.py:3: SettingWithCopyWarning: \n",
      "A value is trying to be set on a copy of a slice from a DataFrame.\n",
      "Try using .loc[row_indexer,col_indexer] = value instead\n",
      "\n",
      "See the caveats in the documentation: https://pandas.pydata.org/pandas-docs/stable/user_guide/indexing.html#returning-a-view-versus-a-copy\n",
      "  profiles_data['drinks_counts'] = profiles_data['drinks'].map(drinks_dict)\n"
     ]
    }
   ],
   "source": [
    "drinks_dict = {'not at all':1, 'rarely':2,'socially':3, 'desperately':4,'often':5,\n",
    "               'very often':6}\n",
    "profiles_data['drinks_counts'] = profiles_data['drinks'].map(drinks_dict)"
   ]
  },
  {
   "cell_type": "code",
   "execution_count": 12,
   "metadata": {},
   "outputs": [
    {
     "name": "stderr",
     "output_type": "stream",
     "text": [
      "/var/folders/hl/t7n7c3hn5cg8q9rg7d8dp3lh0000gn/T/ipykernel_63792/1533963100.py:3: SettingWithCopyWarning: \n",
      "A value is trying to be set on a copy of a slice from a DataFrame.\n",
      "Try using .loc[row_indexer,col_indexer] = value instead\n",
      "\n",
      "See the caveats in the documentation: https://pandas.pydata.org/pandas-docs/stable/user_guide/indexing.html#returning-a-view-versus-a-copy\n",
      "  profiles_data['drugs_counts'] = profiles_data['drugs'].map(drugs_dict)\n"
     ]
    }
   ],
   "source": [
    "drugs_dict = {'never':1, 'sometimes':2, 'often':3}\n",
    "\n",
    "profiles_data['drugs_counts'] = profiles_data['drugs'].map(drugs_dict)\n"
   ]
  },
  {
   "cell_type": "code",
   "execution_count": 13,
   "metadata": {},
   "outputs": [
    {
     "name": "stderr",
     "output_type": "stream",
     "text": [
      "/var/folders/hl/t7n7c3hn5cg8q9rg7d8dp3lh0000gn/T/ipykernel_63792/1375733011.py:36: SettingWithCopyWarning: \n",
      "A value is trying to be set on a copy of a slice from a DataFrame.\n",
      "Try using .loc[row_indexer,col_indexer] = value instead\n",
      "\n",
      "See the caveats in the documentation: https://pandas.pydata.org/pandas-docs/stable/user_guide/indexing.html#returning-a-view-versus-a-copy\n",
      "  profiles_data['education_counts'] = profiles_data['education'].map(education_dict)\n"
     ]
    }
   ],
   "source": [
    "#breaking education into high school, post high school, university, post university\n",
    "education_dict = {\n",
    "                   'dropped out of space camp': 1,\n",
    "                  'working on space camp': 1,\n",
    "                  'space camp': 1,\n",
    "                  'graduated from space camp': 1,\n",
    "                   'dropped out of high school': 1,\n",
    " 'working on high school': 1,\n",
    "                  'high school': 1,\n",
    "                  'graduated from high school': 1,\n",
    "                   'dropped out of college/university': 1,\n",
    " 'working on two-year college': 2,\n",
    "                  'two-year college': 2,\n",
    "                   'dropped out of two-year college': 2,\n",
    "                   'graduated from two-year college': 2,\n",
    "                  'working on college/university': 2,\n",
    "                  'college/university': 3,\n",
    " 'graduated from college/university': 3,\n",
    "                  'dropped out of masters program': 4,\n",
    "                   'working on masters program': 4,\n",
    "                  'masters program': 4,\n",
    " 'graduated from masters program': 4,\n",
    "                  'dropped out of law school': 4,\n",
    "                   'dropped out of ph.d program': 4,\n",
    "\n",
    " 'dropped out of med school': 4,\n",
    "  'working on ph.d program': 4,\n",
    " 'working on med school': 4,\n",
    "'graduated from med school': 4,\n",
    " 'graduated from ph.d program': 4,\n",
    " 'graduated from law school': 4,\n",
    " 'working on law school': 4,\n",
    " 'law school': 4,\n",
    " 'ph.d program': 4,\n",
    " 'med school': 4}\n",
    "profiles_data['education_counts'] = profiles_data['education'].map(education_dict)\n"
   ]
  },
  {
   "cell_type": "code",
   "execution_count": 14,
   "metadata": {},
   "outputs": [],
   "source": [
    "data = profiles_data[['education_counts','drinks_counts', 'drugs_counts', \n",
    "       'smokes_counts']]\n"
   ]
  },
  {
   "cell_type": "markdown",
   "metadata": {},
   "source": [
    "I did a pairplot seaborn graph but it didn't look good enough to me"
   ]
  },
  {
   "cell_type": "code",
   "execution_count": 15,
   "metadata": {},
   "outputs": [
    {
     "data": {
      "image/png": "[encoded data removed]",
      "text/plain": [
       "<Figure size 720x504 with 1 Axes>"
      ]
     },
     "metadata": {
      "needs_background": "light"
     },
     "output_type": "display_data"
    }
   ],
   "source": [
    "import seaborn as sns\n",
    "import matplotlib.pyplot as plt\n",
    "plt.figure(figsize = (10,7))\n",
    "plt.scatter(data['education_counts'], data['drinks_counts'], alpha = 0.1)\n",
    "plt.xlabel('Education')\n",
    "plt.xticks(ticks = [1,2,3,4], \n",
    "           labels = ['high school', 'some college','college','more than college'])\n",
    "plt.yticks(ticks = [1,2,3,4,5,6], \n",
    "          labels = drinks_dict.keys())\n",
    "plt.ylabel('Drinks')\n",
    "plt.title('Education vs Drinks')\n",
    "plt.savefig('Education vs Drinks.png')\n",
    "#drinks_dict.keys()"
   ]
  },
  {
   "cell_type": "code",
   "execution_count": 27,
   "metadata": {},
   "outputs": [
    {
     "data": {
      "image/png": "[encoded data removed]",
      "text/plain": [
       "<Figure size 504x288 with 1 Axes>"
      ]
     },
     "metadata": {
      "needs_background": "light"
     },
     "output_type": "display_data"
    }
   ],
   "source": [
    "plt.figure(figsize = (7,4))\n",
    "plt.scatter(data['education_counts'], data['smokes_counts'], alpha = 0.1)\n",
    "plt.xlabel('Education')\n",
    "plt.xticks(ticks = [1,2,3,4], \n",
    "           labels = ['high school', 'some college','college','more than college'])\n",
    "plt.yticks(ticks = [1,2,3,4,5], \n",
    "          labels = smokes_dict.keys())\n",
    "plt.ylabel('Smokes')\n",
    "plt.title('Education vs Smokes')\n",
    "plt.savefig('Education vs Smokes.png')\n"
   ]
  },
  {
   "cell_type": "code",
   "execution_count": 28,
   "metadata": {},
   "outputs": [
    {
     "data": {
      "image/png": "[encoded data removed]",
      "text/plain": [
       "<Figure size 504x288 with 1 Axes>"
      ]
     },
     "metadata": {
      "needs_background": "light"
     },
     "output_type": "display_data"
    }
   ],
   "source": [
    "plt.figure(figsize = (7,4))\n",
    "plt.scatter(data['education_counts'], data['drugs_counts'], alpha = 0.1)\n",
    "plt.xlabel('Education')\n",
    "plt.xticks(ticks = [1,2,3,4], \n",
    "           labels = ['high school', 'some college','college','more than college'])\n",
    "plt.yticks(ticks = [1,2,3], \n",
    "          labels = drugs_dict.keys())\n",
    "plt.ylabel('Drugs')\n",
    "plt.title('Education vs Drugs')\n",
    "plt.savefig('Education vs Drugs.png')\n"
   ]
  },
  {
   "cell_type": "markdown",
   "metadata": {},
   "source": [
    "The data doesn't look that great in that visualization. I'm going to create an alternate education dictionary to space out the data points. I'll still use the original education dictionary to group the data but for purposes of visualization it will look better to use the dictionary below."
   ]
  },
  {
   "cell_type": "code",
   "execution_count": 17,
   "metadata": {},
   "outputs": [
    {
     "name": "stderr",
     "output_type": "stream",
     "text": [
      "/var/folders/hl/t7n7c3hn5cg8q9rg7d8dp3lh0000gn/T/ipykernel_63792/1889854765.py:35: SettingWithCopyWarning: \n",
      "A value is trying to be set on a copy of a slice from a DataFrame.\n",
      "Try using .loc[row_indexer,col_indexer] = value instead\n",
      "\n",
      "See the caveats in the documentation: https://pandas.pydata.org/pandas-docs/stable/user_guide/indexing.html#returning-a-view-versus-a-copy\n",
      "  data['edu_alt_counts'] = profiles_data['education'].map(edu_alt_dict)\n"
     ]
    }
   ],
   "source": [
    "edu_alt_dict = {\n",
    "                   'dropped out of space camp': 1,\n",
    "                  'working on space camp': 2,\n",
    "                  'space camp': 3,\n",
    "                  'graduated from space camp': 4,\n",
    "                   'dropped out of high school': 5,\n",
    " 'working on high school': 6,\n",
    "                  'high school': 7,\n",
    "                  'graduated from high school': 8,\n",
    "                   'dropped out of college/university': 9,\n",
    " 'working on two-year college': 10,\n",
    "                  'two-year college':11,\n",
    "                   'dropped out of two-year college': 12,\n",
    "                   'graduated from two-year college': 13,\n",
    "                  'working on college/university': 14,\n",
    "                  'college/university': 15,\n",
    " 'graduated from college/university': 16,\n",
    "                  'dropped out of masters program': 17,\n",
    "                   'working on masters program': 18,\n",
    "                  'masters program': 19,\n",
    " 'graduated from masters program': 20,\n",
    "                  'dropped out of law school': 21,\n",
    "                   'dropped out of ph.d program': 22,\n",
    "\n",
    " 'dropped out of med school': 23,\n",
    "  'working on ph.d program': 24,\n",
    " 'working on med school': 25,\n",
    "'graduated from med school': 26,\n",
    " 'graduated from ph.d program': 27,\n",
    " 'graduated from law school': 28,\n",
    " 'working on law school': 29,\n",
    " 'law school': 30,\n",
    " 'ph.d program': 31,\n",
    " 'med school': 32}\n",
    "data['edu_alt_counts'] = profiles_data['education'].map(edu_alt_dict)"
   ]
  },
  {
   "cell_type": "code",
   "execution_count": 18,
   "metadata": {},
   "outputs": [
    {
     "data": {
      "image/png": "[encoded data removed]",
      "text/plain": [
       "<Figure size 720x504 with 1 Axes>"
      ]
     },
     "metadata": {
      "needs_background": "light"
     },
     "output_type": "display_data"
    }
   ],
   "source": [
    "plt.figure(figsize = (10,7))\n",
    "plt.scatter(data['edu_alt_counts'], data['drinks_counts'], alpha = 0.1)\n",
    "plt.xlabel('Education')\n",
    "plt.xticks(ticks = [1,9,18,25], \n",
    "          labels = ['high school', 'some college','college','more than college'])\n",
    "plt.yticks(ticks = [1,2,3,4,5,6], \n",
    "          labels = drinks_dict.keys())\n",
    "plt.ylabel('Drinks')\n",
    "plt.title('Education vs Drinks')\n",
    "plt.savefig('Education vs Drinks.png')\n"
   ]
  },
  {
   "cell_type": "code",
   "execution_count": 19,
   "metadata": {},
   "outputs": [
    {
     "data": {
      "image/png": "[encoded data removed]",
      "text/plain": [
       "<Figure size 720x504 with 1 Axes>"
      ]
     },
     "metadata": {
      "needs_background": "light"
     },
     "output_type": "display_data"
    }
   ],
   "source": [
    "plt.figure(figsize = (10,7))\n",
    "plt.scatter(data['edu_alt_counts'], data['smokes_counts'], alpha = 0.1)\n",
    "plt.xlabel('Education')\n",
    "plt.xticks(ticks = [1,9,18,25], \n",
    "          labels = ['high school', 'some college','college','more than college'])\n",
    "plt.yticks(ticks = [1,2,3,4,5], \n",
    "          labels = smokes_dict.keys())\n",
    "plt.ylabel('Smokes')\n",
    "plt.title('Education vs Smokes')\n",
    "plt.savefig('Education vs Smokes.png')"
   ]
  },
  {
   "cell_type": "code",
   "execution_count": 46,
   "metadata": {},
   "outputs": [
    {
     "data": {
      "image/png": "[encoded data removed]",
      "text/plain": [
       "<Figure size 504x288 with 1 Axes>"
      ]
     },
     "metadata": {
      "needs_background": "light"
     },
     "output_type": "display_data"
    }
   ],
   "source": [
    "plt.figure(figsize = (7,4))\n",
    "plt.scatter(data['edu_alt_counts'], data['drugs_counts'], alpha = 0.1)\n",
    "plt.xlabel('Education')\n",
    "plt.xticks(ticks = [1,9,18,25], \n",
    "          labels = ['high school', 'some college','college','more than college'])\n",
    "plt.yticks(ticks = [1,2,3], \n",
    "          labels = drugs_dict.keys())\n",
    "plt.ylabel('Drugs')\n",
    "plt.title('Education vs Drugs')\n",
    "plt.savefig('Education vs Drugs.png')"
   ]
  },
  {
   "cell_type": "code",
   "execution_count": 99,
   "metadata": {},
   "outputs": [
    {
     "name": "stdout",
     "output_type": "stream",
     "text": [
      "[[4.         1.04289544 1.07913812 2.7455069 ]\n",
      " [2.58124324 1.06220884 1.13858171 2.70297868]\n",
      " [2.33765672 4.15088629 1.52896671 3.23065283]\n",
      " [2.95036496 1.24927007 1.40291971 5.04781022]]\n"
     ]
    }
   ],
   "source": [
    "from sklearn.cluster import KMeans\n",
    "\n",
    "data_cluster = data.dropna()\n",
    "classifier = KMeans(n_clusters = 4)\n",
    "classifier.fit(data_cluster[['education_counts','smokes_counts','drugs_counts',\n",
    "                             'drinks_counts']])\n",
    "print(classifier.cluster_centers_)"
   ]
  },
  {
   "cell_type": "code",
   "execution_count": 100,
   "metadata": {},
   "outputs": [],
   "source": [
    "cluster_zero_indices = []\n",
    "cluster_one_indices = []\n",
    "cluster_two_indices = []\n",
    "cluster_three_indices = []\n",
    "for i in range(len(classifier.labels_)):\n",
    "    if classifier.labels_[i] == 0:\n",
    "        cluster_zero_indices.append(i)\n",
    "    elif classifier.labels_[i] == 1:\n",
    "        cluster_one_indices.append(i)\n",
    "    elif classifier.labels_[i] == 2:\n",
    "        cluster_two_indices.append(i)\n",
    "    elif classifier.labels_[i] == 3:\n",
    "        cluster_three_indices.append(i)"
   ]
  },
  {
   "cell_type": "code",
   "execution_count": 104,
   "metadata": {},
   "outputs": [
    {
     "name": "stdout",
     "output_type": "stream",
     "text": [
      "4.0    10071\n",
      "Name: education_counts, dtype: int64\n",
      "3.0    14385\n",
      "2.0     4833\n",
      "1.0     2033\n",
      "Name: education_counts, dtype: int64\n",
      "3.0    1544\n",
      "2.0    1504\n",
      "1.0    1046\n",
      "4.0     532\n",
      "Name: education_counts, dtype: int64\n",
      "3.0    1347\n",
      "4.0     745\n",
      "2.0     415\n",
      "1.0     233\n",
      "Name: education_counts, dtype: int64\n",
      "4.0    1.0\n",
      "Name: education_counts, dtype: float64\n",
      "3.0    0.676909\n",
      "2.0    0.227425\n",
      "1.0    0.095666\n",
      "Name: education_counts, dtype: float64\n",
      "3.0    0.333766\n",
      "2.0    0.325119\n",
      "1.0    0.226113\n",
      "4.0    0.115002\n",
      "Name: education_counts, dtype: float64\n",
      "3.0    0.491606\n",
      "4.0    0.271898\n",
      "2.0    0.151460\n",
      "1.0    0.085036\n",
      "Name: education_counts, dtype: float64\n",
      "1.0    0.922153\n",
      "2.0    0.076556\n",
      "3.0    0.001291\n",
      "Name: drugs_counts, dtype: float64\n",
      "3.0    0.803992\n",
      "2.0    0.128587\n",
      "1.0    0.064442\n",
      "4.0    0.002979\n",
      "Name: drinks_counts, dtype: float64\n",
      "1.0    0.963162\n",
      "2.0    0.030781\n",
      "3.0    0.006057\n",
      "Name: smokes_counts, dtype: float64\n",
      "4.0    1.0\n",
      "Name: education_counts, dtype: float64\n",
      "1.0    0.864853\n",
      "2.0    0.131711\n",
      "3.0    0.003435\n",
      "Name: drugs_counts, dtype: float64\n",
      "3.0    0.780857\n",
      "2.0    0.136888\n",
      "1.0    0.080796\n",
      "4.0    0.001459\n",
      "Name: drinks_counts, dtype: float64\n",
      "1.0    0.938638\n",
      "2.0    0.060515\n",
      "3.0    0.000847\n",
      "Name: smokes_counts, dtype: float64\n",
      "3.0    0.676909\n",
      "2.0    0.227425\n",
      "1.0    0.095666\n",
      "Name: education_counts, dtype: float64\n",
      "1.0    0.513619\n",
      "2.0    0.443796\n",
      "3.0    0.042585\n",
      "Name: drugs_counts, dtype: float64\n",
      "3.0    0.627972\n",
      "5.0    0.176178\n",
      "2.0    0.093385\n",
      "1.0    0.061608\n",
      "6.0    0.027021\n",
      "4.0    0.013835\n",
      "Name: drinks_counts, dtype: float64\n",
      "4.0    0.526157\n",
      "5.0    0.312365\n",
      "3.0    0.161479\n",
      "Name: smokes_counts, dtype: float64\n",
      "3.0    0.333766\n",
      "2.0    0.325119\n",
      "1.0    0.226113\n",
      "4.0    0.115002\n",
      "Name: education_counts, dtype: float64\n",
      "1.0    0.617518\n",
      "2.0    0.362044\n",
      "3.0    0.020438\n",
      "Name: drugs_counts, dtype: float64\n",
      "5.0    0.898905\n",
      "6.0    0.074453\n",
      "4.0    0.026642\n",
      "Name: drinks_counts, dtype: float64\n",
      "1.0    0.805474\n",
      "2.0    0.143796\n",
      "3.0    0.046715\n",
      "4.0    0.004015\n",
      "Name: smokes_counts, dtype: float64\n",
      "3.0    0.491606\n",
      "4.0    0.271898\n",
      "2.0    0.151460\n",
      "1.0    0.085036\n",
      "Name: education_counts, dtype: float64\n"
     ]
    }
   ],
   "source": [
    "cluster_zero_df = data_cluster.iloc[cluster_zero_indices]\n",
    "cluster_one_df = data_cluster.iloc[cluster_one_indices]\n",
    "cluster_two_df = data_cluster.iloc[cluster_two_indices]\n",
    "cluster_three_df = data_cluster.iloc[cluster_three_indices]\n",
    "print(cluster_zero_df['education_counts'].value_counts())\n",
    "print(cluster_one_df['education_counts'].value_counts())\n",
    "print(cluster_two_df['education_counts'].value_counts())\n",
    "print(cluster_three_df['education_counts'].value_counts())\n",
    "print(cluster_zero_df['education_counts'].value_counts()/len(cluster_zero_df))\n",
    "print(cluster_one_df['education_counts'].value_counts()/len(cluster_one_df))\n",
    "print(cluster_two_df['education_counts'].value_counts()/len(cluster_two_df))\n",
    "print(cluster_three_df['education_counts'].value_counts()/len(cluster_three_df))\n",
    "#just putting the dictionary here for memory's sake\n",
    "smokes_dict = {'sometimes':4, 'no':1,'when drinking':2, 'yes':5, 'trying to quit':3}\n",
    "print(cluster_zero_df['drugs_counts'].value_counts()/len(cluster_zero_df))\n",
    "print(cluster_zero_df['drinks_counts'].value_counts()/len(cluster_zero_df))\n",
    "print(cluster_zero_df['smokes_counts'].value_counts()/len(cluster_zero_df))\n",
    "print(cluster_zero_df['education_counts'].value_counts()/len(cluster_zero_df))\n",
    "print(cluster_one_df['drugs_counts'].value_counts()/len(cluster_one_df))\n",
    "print(cluster_one_df['drinks_counts'].value_counts()/len(cluster_one_df))\n",
    "print(cluster_one_df['smokes_counts'].value_counts()/len(cluster_one_df))\n",
    "print(cluster_one_df['education_counts'].value_counts()/len(cluster_one_df))\n",
    "print(cluster_two_df['drugs_counts'].value_counts()/len(cluster_two_df))\n",
    "print(cluster_two_df['drinks_counts'].value_counts()/len(cluster_two_df))\n",
    "print(cluster_two_df['smokes_counts'].value_counts()/len(cluster_two_df))\n",
    "print(cluster_two_df['education_counts'].value_counts()/len(cluster_two_df))\n",
    "print(cluster_three_df['drugs_counts'].value_counts()/len(cluster_three_df))\n",
    "print(cluster_three_df['drinks_counts'].value_counts()/len(cluster_three_df))\n",
    "print(cluster_three_df['smokes_counts'].value_counts()/len(cluster_three_df))\n",
    "print(cluster_three_df['education_counts'].value_counts()/len(cluster_three_df))"
   ]
  },
  {
   "cell_type": "code",
   "execution_count": 109,
   "metadata": {},
   "outputs": [
    {
     "name": "stdout",
     "output_type": "stream",
     "text": [
      "1.0    31854\n",
      "4.0     2445\n",
      "2.0     1990\n",
      "5.0     1445\n",
      "3.0      954\n",
      "Name: smokes_counts, dtype: int64\n",
      "3.0    27596\n",
      "2.0     4636\n",
      "5.0     3278\n",
      "1.0     2651\n",
      "6.0      329\n",
      "4.0      198\n",
      "Name: drinks_counts, dtype: int64\n",
      "1.0    31734\n",
      "2.0     6615\n",
      "3.0      339\n",
      "Name: drugs_counts, dtype: int64\n"
     ]
    }
   ],
   "source": [
    "print(data_cluster['smokes_counts'].value_counts())\n",
    "print(data_cluster['drinks_counts'].value_counts())\n",
    "print(data_cluster['drugs_counts'].value_counts())"
   ]
  },
  {
   "cell_type": "markdown",
   "metadata": {},
   "source": [
    "Ran this a couple times. The last time I got these results:\n",
    "\n",
    "Cluster 0:\n",
    "\n",
    "-100% have some kind of post 4-year university experience \\\n",
    "-92% don't do drugs \\\n",
    "-80% drink socially \\\n",
    "-96% don't smoke \n",
    "\n",
    "Cluster 1:\n",
    "\n",
    "-68% 4-year university experience \\\n",
    "-86% drug free \\\n",
    "-78% drink socially \\\n",
    "-94% smoke free \n",
    "\n",
    "Not much of a correlation here. One problem is that the overwhelming majority of people drink socially, don't smoke, and don't do drugs.\n",
    "\n",
    "I want to try to do this with a K Neighbors Classifier and see if it performs any better. It shouldn't but it's good practice anyway. \n"
   ]
  },
  {
   "cell_type": "code",
   "execution_count": null,
   "metadata": {},
   "outputs": [],
   "source": []
  },
  {
   "cell_type": "markdown",
   "metadata": {},
   "source": [
    "# Question 2\n",
    "\n",
    "Will a K Neighbors Classifier be able to predict education level using a number of different features?"
   ]
  },
  {
   "cell_type": "code",
   "execution_count": 116,
   "metadata": {},
   "outputs": [
    {
     "data": {
      "text/plain": [
       "3.0    24760\n",
       "4.0    15437\n",
       "2.0     8730\n",
       "1.0     4391\n",
       "Name: education_counts, dtype: int64"
      ]
     },
     "execution_count": 116,
     "metadata": {},
     "output_type": "execute_result"
    }
   ],
   "source": [
    "profiles_data['education_counts'].value_counts()"
   ]
  },
  {
   "cell_type": "code",
   "execution_count": 21,
   "metadata": {},
   "outputs": [],
   "source": [
    "from sklearn.preprocessing import scale\n",
    "data_cluster = data.dropna()\n",
    "label = data_cluster['education_counts']\n",
    "new_data = data_cluster[['smokes_counts','drugs_counts','drinks_counts']]\n",
    "scaled_data = scale(new_data, axis = 0)\n"
   ]
  },
  {
   "cell_type": "code",
   "execution_count": 22,
   "metadata": {},
   "outputs": [],
   "source": [
    "from sklearn.model_selection import train_test_split\n",
    "train_data, test_data, train_labels, test_labels = train_test_split(scaled_data, \n",
    "                        label, test_size = 0.2, random_state = 1)"
   ]
  },
  {
   "cell_type": "code",
   "execution_count": 23,
   "metadata": {},
   "outputs": [
    {
     "data": {
      "text/plain": [
       "0.41845438097699666"
      ]
     },
     "execution_count": 23,
     "metadata": {},
     "output_type": "execute_result"
    }
   ],
   "source": [
    "from sklearn.neighbors import KNeighborsClassifier\n",
    "classifier = KNeighborsClassifier(n_neighbors = 5)\n",
    "classifier.fit(train_data, train_labels)\n",
    "classifier.score(test_data, test_labels)"
   ]
  },
  {
   "cell_type": "code",
   "execution_count": 24,
   "metadata": {},
   "outputs": [
    {
     "data": {
      "image/png": "[encoded data removed]",
      "text/plain": [
       "<Figure size 504x288 with 1 Axes>"
      ]
     },
     "metadata": {
      "needs_background": "light"
     },
     "output_type": "display_data"
    }
   ],
   "source": [
    "import matplotlib.pyplot as plt\n",
    "plt.figure(figsize = (7,4))\n",
    "scores = []\n",
    "for k in range (1,200):\n",
    "    classifier = KNeighborsClassifier(n_neighbors = k)\n",
    "    classifier.fit(train_data, train_labels)\n",
    "    scores.append(classifier.score(test_data, test_labels))\n",
    "plt.plot(range(1,200), scores) \n",
    "plt.xlabel('Number of Clusters')\n",
    "plt.ylabel('Accuracy')\n",
    "plt.title('Predicting Education with Smokes, Drinks, and Drugs')\n",
    "plt.savefig('Predicting Education with Smokes, Drinks, and Drugs.png')"
   ]
  },
  {
   "cell_type": "code",
   "execution_count": 86,
   "metadata": {},
   "outputs": [
    {
     "data": {
      "text/plain": [
       "array([2.])"
      ]
     },
     "execution_count": 86,
     "metadata": {},
     "output_type": "execute_result"
    }
   ],
   "source": [
    "classifier.predict([[2,2,5]])"
   ]
  },
  {
   "cell_type": "markdown",
   "metadata": {},
   "source": [
    "It doesn't look like we're able to predict education based off of substance use. I also tried isolating variables but I didn't have success. Let's see if any other features look promising."
   ]
  },
  {
   "cell_type": "code",
   "execution_count": 28,
   "metadata": {},
   "outputs": [
    {
     "data": {
      "text/plain": [
       "Index(['age', 'body_type', 'diet', 'drinks', 'drugs', 'education', 'height',\n",
       "       'location', 'offspring', 'orientation', 'pets', 'religion', 'sex',\n",
       "       'sign', 'smokes', 'status', 'job', 'location_counts',\n",
       "       'orientation_counts', 'sex_counts', 'smokes_counts', 'drinks_counts',\n",
       "       'drugs_counts', 'education_counts'],\n",
       "      dtype='object')"
      ]
     },
     "execution_count": 28,
     "metadata": {},
     "output_type": "execute_result"
    }
   ],
   "source": [
    "profiles_data.columns"
   ]
  },
  {
   "cell_type": "markdown",
   "metadata": {},
   "source": [
    "I don't think diet and body type are going to be better at indicating education, but let's give it a shot."
   ]
  },
  {
   "cell_type": "code",
   "execution_count": 25,
   "metadata": {},
   "outputs": [
    {
     "data": {
      "text/plain": [
       "array(['a little extra', 'average', 'thin', 'athletic', 'fit', nan,\n",
       "       'skinny', 'curvy', 'full figured', 'jacked', 'rather not say',\n",
       "       'used up', 'overweight'], dtype=object)"
      ]
     },
     "execution_count": 25,
     "metadata": {},
     "output_type": "execute_result"
    }
   ],
   "source": [
    "profiles_data['body_type'].unique()"
   ]
  },
  {
   "cell_type": "code",
   "execution_count": 26,
   "metadata": {},
   "outputs": [
    {
     "name": "stderr",
     "output_type": "stream",
     "text": [
      "/var/folders/hl/t7n7c3hn5cg8q9rg7d8dp3lh0000gn/T/ipykernel_53046/1877165098.py:5: SettingWithCopyWarning: \n",
      "A value is trying to be set on a copy of a slice from a DataFrame.\n",
      "Try using .loc[row_indexer,col_indexer] = value instead\n",
      "\n",
      "See the caveats in the documentation: https://pandas.pydata.org/pandas-docs/stable/user_guide/indexing.html#returning-a-view-versus-a-copy\n",
      "  profiles_data['body_type_counts'] = profiles_data['body_type'].map(body_type_dict)\n"
     ]
    }
   ],
   "source": [
    "#going to remove \"used up\" and \"rather not say\" because they don't tell us anything.\n",
    "#organizing principle is to go from smaller to bigger\n",
    "body_type_dict = {'a little extra':7, 'average':3, 'thin':1, 'athletic':5, 'fit':4,\n",
    "       'skinny':2, 'curvy':8, 'full figured':9, 'jacked':6, 'overweight':10}\n",
    "profiles_data['body_type_counts'] = profiles_data['body_type'].map(body_type_dict)\n"
   ]
  },
  {
   "cell_type": "code",
   "execution_count": 39,
   "metadata": {},
   "outputs": [
    {
     "data": {
      "text/plain": [
       "array(['strictly anything', 'mostly other', 'anything', 'vegetarian', nan,\n",
       "       'mostly anything', 'mostly vegetarian', 'strictly vegan',\n",
       "       'strictly vegetarian', 'mostly vegan', 'strictly other',\n",
       "       'mostly halal', 'other', 'vegan', 'mostly kosher',\n",
       "       'strictly halal', 'halal', 'strictly kosher', 'kosher'],\n",
       "      dtype=object)"
      ]
     },
     "execution_count": 39,
     "metadata": {},
     "output_type": "execute_result"
    }
   ],
   "source": [
    "profiles_data['diet'].unique()"
   ]
  },
  {
   "cell_type": "code",
   "execution_count": 27,
   "metadata": {},
   "outputs": [
    {
     "name": "stderr",
     "output_type": "stream",
     "text": [
      "/var/folders/hl/t7n7c3hn5cg8q9rg7d8dp3lh0000gn/T/ipykernel_53046/3469237164.py:11: SettingWithCopyWarning: \n",
      "A value is trying to be set on a copy of a slice from a DataFrame.\n",
      "Try using .loc[row_indexer,col_indexer] = value instead\n",
      "\n",
      "See the caveats in the documentation: https://pandas.pydata.org/pandas-docs/stable/user_guide/indexing.html#returning-a-view-versus-a-copy\n",
      "  profiles_data['diet_counts'] = profiles_data['diet'].map(diet_dict)\n"
     ]
    }
   ],
   "source": [
    "#organizing principle is to go from strict to less strict\n",
    "diet_dict = {'strictly vegan':1,\n",
    "       'strictly vegetarian':2, 'strictly kosher':3, 'strictly halal':4,\n",
    "             'strictly other':5, 'strictly anything':6,\n",
    "              'halal':7,  'kosher':8, 'vegan':9, 'vegetarian':10,\n",
    "             'other':11, 'anything':12,\n",
    "       'mostly anything':13, 'mostly vegetarian':14,  'mostly vegan':15, \n",
    "       'mostly halal':16, 'mostly other':17, 'mostly kosher':18\n",
    "       }\n",
    "\n",
    "profiles_data['diet_counts'] = profiles_data['diet'].map(diet_dict)"
   ]
  },
  {
   "cell_type": "code",
   "execution_count": 28,
   "metadata": {},
   "outputs": [
    {
     "name": "stderr",
     "output_type": "stream",
     "text": [
      "/var/folders/hl/t7n7c3hn5cg8q9rg7d8dp3lh0000gn/T/ipykernel_53046/1416498752.py:2: SettingWithCopyWarning: \n",
      "A value is trying to be set on a copy of a slice from a DataFrame\n",
      "\n",
      "See the caveats in the documentation: https://pandas.pydata.org/pandas-docs/stable/user_guide/indexing.html#returning-a-view-versus-a-copy\n",
      "  data_cluster.dropna(inplace = True)\n"
     ]
    }
   ],
   "source": [
    "data_cluster = profiles_data[['diet_counts','body_type_counts', 'education_counts']]\n",
    "data_cluster.dropna(inplace = True)"
   ]
  },
  {
   "cell_type": "code",
   "execution_count": 29,
   "metadata": {},
   "outputs": [],
   "source": [
    "label = data_cluster['education_counts']\n",
    "new_data = data_cluster[['diet_counts','body_type_counts']]\n",
    "scaled_data = scale(new_data, axis = 0)"
   ]
  },
  {
   "cell_type": "code",
   "execution_count": 30,
   "metadata": {},
   "outputs": [],
   "source": [
    "from sklearn.model_selection import train_test_split\n",
    "train_data, test_data, train_labels, test_labels = train_test_split(scaled_data, \n",
    "                        label, test_size = 0.2, random_state = 1)"
   ]
  },
  {
   "cell_type": "code",
   "execution_count": 31,
   "metadata": {},
   "outputs": [
    {
     "data": {
      "text/plain": [
       "0.43524313914299473"
      ]
     },
     "execution_count": 31,
     "metadata": {},
     "output_type": "execute_result"
    }
   ],
   "source": [
    "from sklearn.neighbors import KNeighborsClassifier\n",
    "classifier = KNeighborsClassifier(n_neighbors = 30)\n",
    "classifier.fit(train_data, train_labels)\n",
    "classifier.score(test_data, test_labels)"
   ]
  },
  {
   "cell_type": "code",
   "execution_count": 32,
   "metadata": {},
   "outputs": [
    {
     "data": {
      "image/png": "[encoded data removed]",
      "text/plain": [
       "<Figure size 504x288 with 1 Axes>"
      ]
     },
     "metadata": {
      "needs_background": "light"
     },
     "output_type": "display_data"
    }
   ],
   "source": [
    "plt.figure(figsize = (7,4))\n",
    "scores = []\n",
    "for k in range (1,200):\n",
    "    classifier = KNeighborsClassifier(n_neighbors = k)\n",
    "    classifier.fit(train_data, train_labels)\n",
    "    scores.append(classifier.score(test_data, test_labels))\n",
    "plt.plot(range(1,200), scores) \n",
    "plt.xlabel('Number of Clusters')\n",
    "plt.ylabel('Accuracy')\n",
    "plt.title('Predicting Education with Diet and Body Type')\n",
    "plt.savefig('Predicting Education with Diet and Body Type.png')"
   ]
  },
  {
   "cell_type": "markdown",
   "metadata": {},
   "source": [
    "Alright, going to try one more. I'll give offspring a shot. We'll organize it more like education counts. "
   ]
  },
  {
   "cell_type": "code",
   "execution_count": 55,
   "metadata": {},
   "outputs": [
    {
     "data": {
      "text/plain": [
       "array(['doesn&rsquo;t have kids, but might want them', nan,\n",
       "       'doesn&rsquo;t want kids',\n",
       "       'doesn&rsquo;t have kids, but wants them',\n",
       "       'doesn&rsquo;t have kids', 'wants kids', 'has a kid', 'has kids',\n",
       "       'doesn&rsquo;t have kids, and doesn&rsquo;t want any',\n",
       "       'has kids, but doesn&rsquo;t want more',\n",
       "       'has a kid, but doesn&rsquo;t want more',\n",
       "       'has a kid, and wants more', 'has kids, and might want more',\n",
       "       'might want kids', 'has a kid, and might want more',\n",
       "       'has kids, and wants more'], dtype=object)"
      ]
     },
     "execution_count": 55,
     "metadata": {},
     "output_type": "execute_result"
    }
   ],
   "source": [
    "profiles_data['offspring'].unique()"
   ]
  },
  {
   "cell_type": "code",
   "execution_count": 33,
   "metadata": {},
   "outputs": [
    {
     "name": "stderr",
     "output_type": "stream",
     "text": [
      "/var/folders/hl/t7n7c3hn5cg8q9rg7d8dp3lh0000gn/T/ipykernel_53046/3225924815.py:13: SettingWithCopyWarning: \n",
      "A value is trying to be set on a copy of a slice from a DataFrame.\n",
      "Try using .loc[row_indexer,col_indexer] = value instead\n",
      "\n",
      "See the caveats in the documentation: https://pandas.pydata.org/pandas-docs/stable/user_guide/indexing.html#returning-a-view-versus-a-copy\n",
      "  profiles_data['offspring_counts'] = profiles_data['offspring'].map(offspring_dict)\n",
      "/var/folders/hl/t7n7c3hn5cg8q9rg7d8dp3lh0000gn/T/ipykernel_53046/3225924815.py:15: SettingWithCopyWarning: \n",
      "A value is trying to be set on a copy of a slice from a DataFrame\n",
      "\n",
      "See the caveats in the documentation: https://pandas.pydata.org/pandas-docs/stable/user_guide/indexing.html#returning-a-view-versus-a-copy\n",
      "  data_cluster.dropna(inplace = True)\n"
     ]
    },
    {
     "data": {
      "text/plain": [
       "0.4483835005574136"
      ]
     },
     "execution_count": 33,
     "metadata": {},
     "output_type": "execute_result"
    }
   ],
   "source": [
    "\n",
    "offspring_dict = {'doesn&rsquo;t have kids, but might want them':3,\n",
    "       'doesn&rsquo;t want kids':3,\n",
    "       'doesn&rsquo;t have kids, but wants them':3,\n",
    "       'doesn&rsquo;t have kids':3, 'wants kids':3, 'has a kid':2, 'has kids':1,\n",
    "       'doesn&rsquo;t have kids, and doesn&rsquo;t want any':3,\n",
    "       'has kids, but doesn&rsquo;t want more':1,\n",
    "       'has a kid, but doesn&rsquo;t want more':2,\n",
    "       'has a kid, and wants more':2, 'has kids, and might want more':1,\n",
    "       'might want kids':3, 'has a kid, and might want more':2,\n",
    "       'has kids, and wants more':1}\n",
    "\n",
    "\n",
    "profiles_data['offspring_counts'] = profiles_data['offspring'].map(offspring_dict)\n",
    "data_cluster = profiles_data[['offspring_counts', 'education_counts']]\n",
    "data_cluster.dropna(inplace = True)\n",
    "label = data_cluster['education_counts']\n",
    "new_data = data_cluster[['offspring_counts']]\n",
    "scaled_data = scale(new_data, axis = 0)\n",
    "\n",
    "\n",
    "train_data, test_data, train_labels, test_labels = train_test_split(scaled_data, \n",
    "                        label, test_size = 0.2, random_state = 1)\n",
    "\n",
    "\n",
    "classifier = KNeighborsClassifier(n_neighbors = 10)\n",
    "classifier.fit(train_data, train_labels)\n",
    "classifier.score(test_data, test_labels)"
   ]
  },
  {
   "cell_type": "code",
   "execution_count": 34,
   "metadata": {},
   "outputs": [
    {
     "data": {
      "image/png": "[encoded data removed]",
      "text/plain": [
       "<Figure size 504x288 with 1 Axes>"
      ]
     },
     "metadata": {
      "needs_background": "light"
     },
     "output_type": "display_data"
    }
   ],
   "source": [
    "plt.figure(figsize = (7,4))\n",
    "scores = []\n",
    "\n",
    "for k in range (1,200):\n",
    "    classifier = KNeighborsClassifier(n_neighbors = k)\n",
    "    classifier.fit(train_data, train_labels)\n",
    "    scores.append(classifier.score(test_data, test_labels))\n",
    "plt.plot(range(1,200), scores) \n",
    "plt.xlabel('Number of Clusters')\n",
    "plt.ylabel('Accuracy')\n",
    "plt.title('Predicting Education with Offspring')\n",
    "plt.savefig('Predicting Education with Offspring.png')"
   ]
  },
  {
   "cell_type": "markdown",
   "metadata": {},
   "source": [
    "Let's try all of the features (except body_type and diet) together and see if it does anything for us."
   ]
  },
  {
   "cell_type": "code",
   "execution_count": 35,
   "metadata": {},
   "outputs": [
    {
     "name": "stderr",
     "output_type": "stream",
     "text": [
      "/var/folders/hl/t7n7c3hn5cg8q9rg7d8dp3lh0000gn/T/ipykernel_53046/557959175.py:4: SettingWithCopyWarning: \n",
      "A value is trying to be set on a copy of a slice from a DataFrame\n",
      "\n",
      "See the caveats in the documentation: https://pandas.pydata.org/pandas-docs/stable/user_guide/indexing.html#returning-a-view-versus-a-copy\n",
      "  data_cluster.dropna(inplace = True)\n"
     ]
    },
    {
     "data": {
      "text/plain": [
       "0.4076229269711958"
      ]
     },
     "execution_count": 35,
     "metadata": {},
     "output_type": "execute_result"
    }
   ],
   "source": [
    "data_cluster = profiles_data[['smokes_counts','drugs_counts','drinks_counts',\n",
    "                               'education_counts',\n",
    "                             'offspring_counts']]\n",
    "data_cluster.dropna(inplace = True)\n",
    "label = data_cluster['education_counts']\n",
    "new_data = data_cluster[['smokes_counts','drugs_counts','drinks_counts',\n",
    "                             'offspring_counts']]\n",
    "scaled_data = scale(new_data, axis = 0)\n",
    "\n",
    "\n",
    "train_data, test_data, train_labels, test_labels = train_test_split(scaled_data, \n",
    "                        label, test_size = 0.2, random_state = 1)\n",
    "\n",
    "\n",
    "classifier = KNeighborsClassifier(n_neighbors = 10)\n",
    "classifier.fit(train_data, train_labels)\n",
    "classifier.score(test_data, test_labels)"
   ]
  },
  {
   "cell_type": "code",
   "execution_count": 36,
   "metadata": {},
   "outputs": [
    {
     "data": {
      "image/png": "[encoded data removed]",
      "text/plain": [
       "<Figure size 504x288 with 1 Axes>"
      ]
     },
     "metadata": {
      "needs_background": "light"
     },
     "output_type": "display_data"
    }
   ],
   "source": [
    "plt.figure(figsize = (7,4))\n",
    "scores = []\n",
    "for k in range (1,200):\n",
    "    classifier = KNeighborsClassifier(n_neighbors = k)\n",
    "    classifier.fit(train_data, train_labels)\n",
    "    scores.append(classifier.score(test_data, test_labels))\n",
    "plt.plot(range(1,200), scores) \n",
    "plt.xlabel('Number of Clusters')\n",
    "plt.ylabel('Accuracy')\n",
    "plt.title('Predicting Education with Substances & Offspring')\n",
    "plt.savefig('Predicting Education with Substances & Offspring.png')"
   ]
  },
  {
   "cell_type": "markdown",
   "metadata": {},
   "source": [
    "None of the selected features helped us predict education levels. It would seem to suggest that there is no meaningful connection between:\n",
    "\n",
    "-Substance use and education, at least not based off of this data\n",
    "-Diet and body type; this was expected\n",
    "-offspring\n",
    "\n",
    "I think for all of these there could be improvements because I think there are correlations but the responses here aren't precise enough. For substances I would like the questions to be more about exactly how much is being consumed and whether or not the person has ever tried the substance in question. For diet and body type, I would like actually height and weight. For offsrping the number of children would be useful.\n",
    "\n",
    "A dataset made up of people with more varied substance use habits would also help."
   ]
  },
  {
   "cell_type": "markdown",
   "metadata": {},
   "source": [
    "Alright. Last one. Going to build a Naive Bayes Classifier and see if I can use it to guess a user's education level."
   ]
  },
  {
   "cell_type": "code",
   "execution_count": 38,
   "metadata": {},
   "outputs": [
    {
     "name": "stdout",
     "output_type": "stream",
     "text": [
      "27564\n"
     ]
    },
    {
     "name": "stderr",
     "output_type": "stream",
     "text": [
      "/var/folders/hl/t7n7c3hn5cg8q9rg7d8dp3lh0000gn/T/ipykernel_53046/3998348058.py:3: SettingWithCopyWarning: \n",
      "A value is trying to be set on a copy of a slice from a DataFrame.\n",
      "Try using .loc[row_indexer,col_indexer] = value instead\n",
      "\n",
      "See the caveats in the documentation: https://pandas.pydata.org/pandas-docs/stable/user_guide/indexing.html#returning-a-view-versus-a-copy\n",
      "  essays['education_counts'] = profiles_data['education_counts']\n",
      "/var/folders/hl/t7n7c3hn5cg8q9rg7d8dp3lh0000gn/T/ipykernel_53046/3998348058.py:4: SettingWithCopyWarning: \n",
      "A value is trying to be set on a copy of a slice from a DataFrame\n",
      "\n",
      "See the caveats in the documentation: https://pandas.pydata.org/pandas-docs/stable/user_guide/indexing.html#returning-a-view-versus-a-copy\n",
      "  essays.dropna(inplace = True)\n"
     ]
    }
   ],
   "source": [
    "essays = profiles[['essay0','essay1','essay2','essay3','essay4','essay5','essay6',\n",
    "                  'essay7','essay8','essay9']]\n",
    "essays['education_counts'] = profiles_data['education_counts']\n",
    "essays.dropna(inplace = True)\n",
    "print(len(essays))"
   ]
  },
  {
   "cell_type": "code",
   "execution_count": 44,
   "metadata": {},
   "outputs": [],
   "source": [
    "essays_names = ['essay0','essay1','essay2','essay3','essay6',\n",
    "                  'essay7','essay8','essay9']\n",
    "essays_list = []\n",
    "for essay in essays_names:\n",
    "    text = essays[essay].tolist()\n",
    "    essays_list += text\n",
    "\n",
    "labels = essays['education_counts'].tolist()\n",
    "labels = labels * 8"
   ]
  },
  {
   "cell_type": "code",
   "execution_count": 45,
   "metadata": {},
   "outputs": [],
   "source": [
    "train_data, test_data, train_labels,test_labels = train_test_split(essays_list, \n",
    "                        labels, test_size = 0.2, random_state = 23 )\n"
   ]
  },
  {
   "cell_type": "code",
   "execution_count": 46,
   "metadata": {},
   "outputs": [],
   "source": [
    "from sklearn.feature_extraction.text import CountVectorizer\n",
    "counter = CountVectorizer()\n",
    "counter.fit(train_data)\n",
    "train_counts = counter.transform(train_data)\n",
    "test_counts = counter.transform(test_data)\n"
   ]
  },
  {
   "cell_type": "code",
   "execution_count": 47,
   "metadata": {},
   "outputs": [],
   "source": [
    "from sklearn.naive_bayes import MultinomialNB\n",
    "classifier = MultinomialNB()\n",
    "classifier.fit(train_counts, train_labels)\n",
    "predictions = classifier.predict(test_counts)"
   ]
  },
  {
   "cell_type": "code",
   "execution_count": 48,
   "metadata": {},
   "outputs": [
    {
     "data": {
      "text/plain": [
       "0.4617146225880326"
      ]
     },
     "execution_count": 48,
     "metadata": {},
     "output_type": "execute_result"
    }
   ],
   "source": [
    "from sklearn.metrics import accuracy_score\n",
    "accuracy_score(test_labels, predictions)"
   ]
  },
  {
   "cell_type": "code",
   "execution_count": 50,
   "metadata": {},
   "outputs": [
    {
     "name": "stdout",
     "output_type": "stream",
     "text": [
      "[4. 4. 3. 3. 3. 3. 3. 3.]\n"
     ]
    }
   ],
   "source": [
    "#Let's see if the model can guess my education level\n",
    "\n",
    "my_answers = ['''I’ve lived in China for the last decade. I like books, basketball, \n",
    " math and rap music.''' ,\n",
    "'''I’m currently using Code Academy to learn data science. \n",
    "Also sweating profusely at the gym each summer morning.''',\n",
    "'Annoying people. It’s a very rare talent.',\n",
    "'Probably that I’m tall but I’m not really tall as much as I’m just big in general.',\n",
    "'Why it is that we eat birds',\n",
    "'Almost always hanging out with my friends and having some drinks.',\n",
    "'I’m more or less an open book. Should I tell you my blood type?',\n",
    "'You shouldn’t. I’m happily married and also very, very annoying.'\n",
    "]\n",
    "edu_guess = counter.transform(my_answers)\n",
    "print(classifier.predict(edu_guess))"
   ]
  },
  {
   "cell_type": "markdown",
   "metadata": {},
   "source": [
    "Maybe if we isolate certain questions the model will work better? I'm going to try it with just questions 6-8. They are less like a list and more likely to have thoughtful answers.\n",
    "\n",
    "I messed around with the questions up top but it didn't improve the accuracy."
   ]
  },
  {
   "cell_type": "code",
   "execution_count": 83,
   "metadata": {},
   "outputs": [
    {
     "data": {
      "text/plain": [
       "3.0    12408\n",
       "4.0     7893\n",
       "2.0     4741\n",
       "1.0     2522\n",
       "Name: education_counts, dtype: int64"
      ]
     },
     "execution_count": 83,
     "metadata": {},
     "output_type": "execute_result"
    }
   ],
   "source": [
    "essays['education_counts'].value_counts()"
   ]
  },
  {
   "cell_type": "code",
   "execution_count": null,
   "metadata": {},
   "outputs": [],
   "source": []
  },
  {
   "cell_type": "markdown",
   "metadata": {},
   "source": [
    "# Conclusion\n",
    "\n",
    "I think it was an interesting and challenging project. When I first started it I didn't really have an idea in mind and I was just going to see if I could match people together using as many variables as possible. Then the education idea took hold and I thought it would show a connection. I'm surprised that it didn't. I thought at least one of the selected features would be good for predicting education. I never thought diet and body type were going to work so that was fine. \n",
    "\n",
    "All in all, a good project and good practice."
   ]
  },
  {
   "cell_type": "code",
   "execution_count": null,
   "metadata": {},
   "outputs": [],
   "source": []
  }
 ],
 "metadata": {
  "kernelspec": {
   "display_name": "Python 3 (ipykernel)",
   "language": "python",
   "name": "python3"
  },
  "language_info": {
   "codemirror_mode": {
    "name": "ipython",
    "version": 3
   },
   "file_extension": ".py",
   "mimetype": "text/x-python",
   "name": "python",
   "nbconvert_exporter": "python",
   "pygments_lexer": "ipython3",
   "version": "3.9.12"
  }
 },
 "nbformat": 4,
 "nbformat_minor": 4
}
